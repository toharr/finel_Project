{
 "cells": [
  {
   "cell_type": "code",
   "execution_count": 197,
   "id": "f43abee5-84a4-4187-9264-00a8713a489c",
   "metadata": {},
   "outputs": [],
   "source": [
    "import pandas as pd\n",
    "import numpy as np\n",
    "import matplotlib.pyplot as plt\n",
    "import seaborn as sns"
   ]
  },
  {
   "cell_type": "code",
   "execution_count": 198,
   "id": "bb903642-906d-4089-a533-967e00d94d98",
   "metadata": {},
   "outputs": [],
   "source": [
    "data = pd.read_csv('exhibit_history_project (2).csv')\n",
    "#data.head()\n",
    "data= data.iloc[:,0:10]\n",
    "data['month']= data.iloc[:,0]\n",
    "data['years']= data.iloc[:,0]\n"
   ]
  },
  {
   "cell_type": "code",
   "execution_count": 199,
   "id": "e01874b8-29be-492b-9d60-74deac8ad0bb",
   "metadata": {},
   "outputs": [],
   "source": [
    "data['years']=pd.to_numeric(data['years'], errors='coerce')"
   ]
  },
  {
   "cell_type": "code",
   "execution_count": 200,
   "id": "9ca58158-5f33-4cc3-9c20-40b566d6fa95",
   "metadata": {},
   "outputs": [],
   "source": [
    "data['years']=data['years'].fillna(method='ffill')"
   ]
  },
  {
   "cell_type": "code",
   "execution_count": 201,
   "id": "177f3b79-5ea4-460d-9974-8f9f220af4dd",
   "metadata": {},
   "outputs": [],
   "source": [
    "data_n=data[:].dropna()"
   ]
  },
  {
   "cell_type": "code",
   "execution_count": 202,
   "id": "b32be6f0-9c8b-4ae1-ac5e-6b8efa6069f3",
   "metadata": {},
   "outputs": [
    {
     "data": {
      "text/html": [
       "<div>\n",
       "<style scoped>\n",
       "    .dataframe tbody tr th:only-of-type {\n",
       "        vertical-align: middle;\n",
       "    }\n",
       "\n",
       "    .dataframe tbody tr th {\n",
       "        vertical-align: top;\n",
       "    }\n",
       "\n",
       "    .dataframe thead th {\n",
       "        text-align: right;\n",
       "    }\n",
       "</style>\n",
       "<table border=\"1\" class=\"dataframe\">\n",
       "  <thead>\n",
       "    <tr style=\"text-align: right;\">\n",
       "      <th></th>\n",
       "      <th>Unnamed: 0</th>\n",
       "      <th>Balance_Total</th>\n",
       "      <th>Balance_Goods</th>\n",
       "      <th>Balance_Services</th>\n",
       "      <th>Exports_Total</th>\n",
       "      <th>Exports_Goods</th>\n",
       "      <th>Exports_Services</th>\n",
       "      <th>Imports_Total</th>\n",
       "      <th>Imports_Goods</th>\n",
       "      <th>Imports_Services</th>\n",
       "      <th>month</th>\n",
       "      <th>years</th>\n",
       "    </tr>\n",
       "  </thead>\n",
       "  <tbody>\n",
       "    <tr>\n",
       "      <th>2</th>\n",
       "      <td>Jan. - Dec.</td>\n",
       "      <td>39212</td>\n",
       "      <td>-96897</td>\n",
       "      <td>57685</td>\n",
       "      <td>616882</td>\n",
       "      <td>439631</td>\n",
       "      <td>177251</td>\n",
       "      <td>656094</td>\n",
       "      <td>536528</td>\n",
       "      <td>119566</td>\n",
       "      <td>Jan. - Dec.</td>\n",
       "      <td>1992</td>\n",
       "    </tr>\n",
       "    <tr>\n",
       "      <th>3</th>\n",
       "      <td>January</td>\n",
       "      <td>2026</td>\n",
       "      <td>-6952</td>\n",
       "      <td>4926</td>\n",
       "      <td>50251</td>\n",
       "      <td>35498</td>\n",
       "      <td>14753</td>\n",
       "      <td>52277</td>\n",
       "      <td>42450</td>\n",
       "      <td>9827</td>\n",
       "      <td>January</td>\n",
       "      <td>1992</td>\n",
       "    </tr>\n",
       "    <tr>\n",
       "      <th>4</th>\n",
       "      <td>February</td>\n",
       "      <td>831</td>\n",
       "      <td>-5593</td>\n",
       "      <td>4762</td>\n",
       "      <td>51682</td>\n",
       "      <td>36854</td>\n",
       "      <td>14828</td>\n",
       "      <td>52513</td>\n",
       "      <td>42447</td>\n",
       "      <td>10066</td>\n",
       "      <td>February</td>\n",
       "      <td>1992</td>\n",
       "    </tr>\n",
       "    <tr>\n",
       "      <th>5</th>\n",
       "      <td>March</td>\n",
       "      <td>2641</td>\n",
       "      <td>-7355</td>\n",
       "      <td>4714</td>\n",
       "      <td>50294</td>\n",
       "      <td>35711</td>\n",
       "      <td>14583</td>\n",
       "      <td>52935</td>\n",
       "      <td>43066</td>\n",
       "      <td>9869</td>\n",
       "      <td>March</td>\n",
       "      <td>1992</td>\n",
       "    </tr>\n",
       "    <tr>\n",
       "      <th>6</th>\n",
       "      <td>April</td>\n",
       "      <td>3109</td>\n",
       "      <td>-8284</td>\n",
       "      <td>5175</td>\n",
       "      <td>50302</td>\n",
       "      <td>35439</td>\n",
       "      <td>14863</td>\n",
       "      <td>53411</td>\n",
       "      <td>43723</td>\n",
       "      <td>9688</td>\n",
       "      <td>April</td>\n",
       "      <td>1992</td>\n",
       "    </tr>\n",
       "    <tr>\n",
       "      <th>...</th>\n",
       "      <td>...</td>\n",
       "      <td>...</td>\n",
       "      <td>...</td>\n",
       "      <td>...</td>\n",
       "      <td>...</td>\n",
       "      <td>...</td>\n",
       "      <td>...</td>\n",
       "      <td>...</td>\n",
       "      <td>...</td>\n",
       "      <td>...</td>\n",
       "      <td>...</td>\n",
       "      <td>...</td>\n",
       "    </tr>\n",
       "    <tr>\n",
       "      <th>410</th>\n",
       "      <td>February</td>\n",
       "      <td>70642</td>\n",
       "      <td>-89155</td>\n",
       "      <td>18513</td>\n",
       "      <td>188561</td>\n",
       "      <td>130436</td>\n",
       "      <td>58125</td>\n",
       "      <td>259203</td>\n",
       "      <td>219591</td>\n",
       "      <td>39612</td>\n",
       "      <td>February</td>\n",
       "      <td>2021</td>\n",
       "    </tr>\n",
       "    <tr>\n",
       "      <th>411</th>\n",
       "      <td>March</td>\n",
       "      <td>75025</td>\n",
       "      <td>-92859</td>\n",
       "      <td>17834</td>\n",
       "      <td>202669</td>\n",
       "      <td>143658</td>\n",
       "      <td>59011</td>\n",
       "      <td>277693</td>\n",
       "      <td>236516</td>\n",
       "      <td>41177</td>\n",
       "      <td>March</td>\n",
       "      <td>2021</td>\n",
       "    </tr>\n",
       "    <tr>\n",
       "      <th>412</th>\n",
       "      <td>April</td>\n",
       "      <td>69071</td>\n",
       "      <td>-86873</td>\n",
       "      <td>17802</td>\n",
       "      <td>204704</td>\n",
       "      <td>145088</td>\n",
       "      <td>59615</td>\n",
       "      <td>273775</td>\n",
       "      <td>231961</td>\n",
       "      <td>41814</td>\n",
       "      <td>April</td>\n",
       "      <td>2021</td>\n",
       "    </tr>\n",
       "    <tr>\n",
       "      <th>413</th>\n",
       "      <td>May</td>\n",
       "      <td>70995</td>\n",
       "      <td>-89132</td>\n",
       "      <td>18137</td>\n",
       "      <td>206468</td>\n",
       "      <td>145636</td>\n",
       "      <td>60832</td>\n",
       "      <td>277462</td>\n",
       "      <td>234768</td>\n",
       "      <td>42695</td>\n",
       "      <td>May</td>\n",
       "      <td>2021</td>\n",
       "    </tr>\n",
       "    <tr>\n",
       "      <th>414</th>\n",
       "      <td>June</td>\n",
       "      <td>75749</td>\n",
       "      <td>-93174</td>\n",
       "      <td>17425</td>\n",
       "      <td>207672</td>\n",
       "      <td>145912</td>\n",
       "      <td>61760</td>\n",
       "      <td>283421</td>\n",
       "      <td>239086</td>\n",
       "      <td>44335</td>\n",
       "      <td>June</td>\n",
       "      <td>2021</td>\n",
       "    </tr>\n",
       "  </tbody>\n",
       "</table>\n",
       "<p>384 rows × 12 columns</p>\n",
       "</div>"
      ],
      "text/plain": [
       "      Unnamed: 0 Balance_Total Balance_Goods Balance_Services Exports_Total  \\\n",
       "2    Jan. - Dec.         39212        -96897            57685        616882   \n",
       "3        January          2026         -6952             4926         50251   \n",
       "4       February           831         -5593             4762         51682   \n",
       "5          March          2641         -7355             4714         50294   \n",
       "6          April          3109         -8284             5175         50302   \n",
       "..           ...           ...           ...              ...           ...   \n",
       "410     February         70642        -89155            18513        188561   \n",
       "411        March         75025        -92859            17834        202669   \n",
       "412        April         69071        -86873            17802        204704   \n",
       "413          May         70995        -89132            18137        206468   \n",
       "414         June         75749        -93174            17425        207672   \n",
       "\n",
       "    Exports_Goods Exports_Services Imports_Total Imports_Goods  \\\n",
       "2          439631           177251        656094        536528   \n",
       "3           35498            14753         52277         42450   \n",
       "4           36854            14828         52513         42447   \n",
       "5           35711            14583         52935         43066   \n",
       "6           35439            14863         53411         43723   \n",
       "..            ...              ...           ...           ...   \n",
       "410        130436            58125        259203        219591   \n",
       "411        143658            59011        277693        236516   \n",
       "412        145088            59615        273775        231961   \n",
       "413        145636            60832        277462        234768   \n",
       "414        145912            61760        283421        239086   \n",
       "\n",
       "    Imports_Services        month  years  \n",
       "2             119566  Jan. - Dec.   1992  \n",
       "3               9827      January   1992  \n",
       "4              10066     February   1992  \n",
       "5               9869        March   1992  \n",
       "6               9688        April   1992  \n",
       "..               ...          ...    ...  \n",
       "410            39612     February   2021  \n",
       "411            41177        March   2021  \n",
       "412            41814        April   2021  \n",
       "413            42695          May   2021  \n",
       "414            44335         June   2021  \n",
       "\n",
       "[384 rows x 12 columns]"
      ]
     },
     "execution_count": 202,
     "metadata": {},
     "output_type": "execute_result"
    }
   ],
   "source": [
    "data_n['years']=data_n['years'].astype(int)\n",
    "data_n"
   ]
  },
  {
   "cell_type": "code",
   "execution_count": 203,
   "id": "02582bcf-3a7e-46d9-a447-d5f4f35f02b0",
   "metadata": {},
   "outputs": [],
   "source": [
    "data_n['Balance_Services']=data_n['Balance_Services'].astype(int)\n",
    "data_n['Balance_Goods']=data_n['Balance_Goods'].astype(int)\n",
    "data_n['Balance_Total']=data_n['Balance_Total'].astype(int)\n",
    "data_n['Exports_Total']=data_n['Exports_Total'].astype(int)\n",
    "data_n['Exports_Goods']=data_n['Exports_Goods'].astype(int)\n",
    "data_n['Exports_Services']=data_n['Exports_Services'].astype(int)"
   ]
  },
  {
   "cell_type": "code",
   "execution_count": 204,
   "id": "c3204b8d-f66e-44f3-a0e4-58af55a7767d",
   "metadata": {},
   "outputs": [],
   "source": [
    "data_n['Imports_Total']=data_n['Imports_Total'].astype(int)\n",
    "data_n['Imports_Goods']=data_n['Imports_Goods'].astype(int)\n",
    "data_n['Imports_Services']=data_n['Imports_Services'].astype(int)"
   ]
  },
  {
   "cell_type": "code",
   "execution_count": 205,
   "id": "c6aefbe1-4bef-463d-8d2e-b5f6562ee8c0",
   "metadata": {},
   "outputs": [],
   "source": [
    "Data= data_n.loc[data_n.month!='Jan. - Dec.']"
   ]
  },
  {
   "cell_type": "markdown",
   "id": "cc35c28b-80a2-4a7b-865b-c135ca2e7a76",
   "metadata": {},
   "source": [
    "## רגעי השיא והשפל של DHL\n"
   ]
  },
  {
   "cell_type": "code",
   "execution_count": 206,
   "id": "17f9f0b0-f6b6-45c9-9a71-3a340e3d8ceb",
   "metadata": {},
   "outputs": [],
   "source": [
    "years2020=Data.loc[(data_n.years==2020.0)]\n",
    "years2001=Data.loc[(data_n.years==2001.0)]"
   ]
  },
  {
   "cell_type": "markdown",
   "id": "ddbd9642-afba-4757-955a-19061b8d262d",
   "metadata": {},
   "source": [
    "# קורונה"
   ]
  },
  {
   "cell_type": "code",
   "execution_count": 207,
   "id": "41071c31-91f9-42fc-a9a9-375550ddc859",
   "metadata": {},
   "outputs": [
    {
     "data": {
      "text/plain": [
       "Text(0.5, 1.0, 'Imports Total 2020')"
      ]
     },
     "execution_count": 207,
     "metadata": {},
     "output_type": "execute_result"
    },
    {
     "data": {
      "image/png": "[encoded data removed]",
      "text/plain": [
       "<Figure size 2160x720 with 2 Axes>"
      ]
     },
     "metadata": {
      "needs_background": "light"
     },
     "output_type": "display_data"
    }
   ],
   "source": [
    "fig, axes = plt.subplots(figsize=(30,10), ncols=2)\n",
    "sns.barplot(x= 'month', y='Exports_Total', data=years2020, ax = axes[0])\n",
    "plt.title('Exports Total 2020',fontsize=30)\n",
    "sns.barplot(x= 'month', y='Imports_Total', data=years2020, ax = axes[1])\n",
    "plt.title('Imports Total 2020',fontsize=30)"
   ]
  },
  {
   "cell_type": "markdown",
   "id": "36ee9afb-ee5a-4733-a036-37aa51cfd507",
   "metadata": {
    "tags": []
   },
   "source": [
    "# בספטמבר 11"
   ]
  },
  {
   "cell_type": "code",
   "execution_count": 208,
   "id": "854dc0e1-ae63-4f3c-8e63-477633fa5ac8",
   "metadata": {},
   "outputs": [
    {
     "data": {
      "text/plain": [
       "Text(0.5, 1.0, 'Imports Total 2001')"
      ]
     },
     "execution_count": 208,
     "metadata": {},
     "output_type": "execute_result"
    },
    {
     "data": {
      "image/png": "[encoded data removed]",
      "text/plain": [
       "<Figure size 2160x720 with 2 Axes>"
      ]
     },
     "metadata": {
      "needs_background": "light"
     },
     "output_type": "display_data"
    }
   ],
   "source": [
    "fig, axes = plt.subplots(figsize=(30,10), ncols=2)\n",
    "sns.barplot(x= 'month', y='Exports_Total', data=years2001, ax = axes[0])\n",
    "plt.title('Exports Total 2001',fontsize=30)\n",
    "sns.barplot(x= 'month', y='Imports_Total', data=years2001, ax = axes[1])\n",
    "plt.title('Imports Total 2001',fontsize=30)"
   ]
  },
  {
   "cell_type": "markdown",
   "id": "af4f6d3e-430b-4631-a756-9a026c9b82d8",
   "metadata": {},
   "source": [
    "# Hanjin Shipping פשיטת הרגל של חברת הענק"
   ]
  },
  {
   "cell_type": "code",
   "execution_count": 209,
   "id": "40f9a70f-738c-44af-860b-c1f2705e662d",
   "metadata": {},
   "outputs": [],
   "source": [
    "years_total= data_n.loc[data.month== 'Jan. - Dec.']\n",
    "years_total=years_total.loc[(years_total.years>2014.0)& (years_total.years<2020.0)]"
   ]
  },
  {
   "cell_type": "code",
   "execution_count": 210,
   "id": "768ed6d6-480c-4d74-8f68-74d70ced288d",
   "metadata": {},
   "outputs": [
    {
     "data": {
      "text/plain": [
       "Text(0.5, 1.0, 'Exports Total 2015-2019')"
      ]
     },
     "execution_count": 210,
     "metadata": {},
     "output_type": "execute_result"
    },
    {
     "data": {
      "image/png": "[encoded data removed]",
      "text/plain": [
       "<Figure size 1728x360 with 2 Axes>"
      ]
     },
     "metadata": {
      "needs_background": "light"
     },
     "output_type": "display_data"
    }
   ],
   "source": [
    "fig, axes = plt.subplots(figsize=(24, 5), ncols=2)\n",
    "sns.barplot(x= 'years', y='Imports_Total', data=years_total, ax = axes[0])\n",
    "plt.ylim([0,3500000])\n",
    "plt.title('Imports Total 2015-2019',fontsize=24)\n",
    "sns.barplot(x= 'years', y='Exports_Total', data=years_total, ax = axes[1])\n",
    "plt.ylim([0,3000000])\n",
    "plt.title('Exports Total 2015-2019',fontsize=24)"
   ]
  },
  {
   "cell_type": "code",
   "execution_count": 211,
   "id": "34c10ee5-f636-4efd-9882-169a29c1c5f8",
   "metadata": {},
   "outputs": [],
   "source": [
    "balance_f=data_n.loc[:,[\"Balance_Total\",\"years\"]]\n",
    "predict_balance=balance_f.groupby(\"years\")[[\"Balance_Total\"]].mean()\n",
    "predict_balance[\"years\"]=range(1992,2022)\n",
    "sum_xi_yi=0\n",
    "sum_xi=0\n",
    "sum_yi=0\n",
    "sum_xi_2=0\n",
    "for i in range(1992,2022):\n",
    "    sum_xi_yi+=(predict_balance.loc[i])*i\n",
    "    sum_xi+=i\n",
    "    sum_yi+=predict_balance.loc[i]\n",
    "    sum_xi_2+=(i**2)\n",
    "sum_2xi=sum_xi**2\n",
    "n=len(predict_balance)"
   ]
  },
  {
   "cell_type": "code",
   "execution_count": 212,
   "id": "4f3abb7c-2342-4270-81ca-af9806d06900",
   "metadata": {},
   "outputs": [],
   "source": [
    "b=((n*sum_xi_yi)-(sum_xi*sum_yi))/((n*sum_xi_2)-sum_2xi)"
   ]
  },
  {
   "cell_type": "code",
   "execution_count": 213,
   "id": "09dcc310-e7e6-4e48-a5f0-4faa999765f3",
   "metadata": {},
   "outputs": [],
   "source": [
    "mean_x=sum_xi/n\n",
    "mean_y=sum_yi/n"
   ]
  },
  {
   "cell_type": "code",
   "execution_count": 214,
   "id": "ab6987bf-5ca4-493c-8ce5-5f968837c454",
   "metadata": {},
   "outputs": [],
   "source": [
    "a=mean_y-(b*mean_x)"
   ]
  },
  {
   "cell_type": "code",
   "execution_count": 215,
   "id": "4963181a-aa1e-4550-a1ef-d42cff810f54",
   "metadata": {},
   "outputs": [],
   "source": [
    "balance_2022=a+(b*2022)"
   ]
  },
  {
   "cell_type": "code",
   "execution_count": 216,
   "id": "350c8fd9-52a7-4d36-bfdf-93c1957f8eb0",
   "metadata": {},
   "outputs": [],
   "source": [
    "rigras={1992:0,1993:0,1994:0,1995:0,1996:0,1997:0,1998:0,1999:0,2000:0,2001:0,2002:0,2003:0,2004:0,2005:0,2006:0,2007:0,2008:0,2009:0,2010:0,2011:0,2012:0,2013:0,2014:0,2015:0,2016:0,2017:0,2018:0,2019:0,2020:0,2021:0,2022:0}\n",
    "for j in range(1992,2023):\n",
    "    rigras[j]=a+(b*j)\n",
    "r_data=pd.DataFrame(rigras)\n",
    "rigras_data=r_data.T\n",
    "rigras_data[\"years\"]=range(1992,2023)"
   ]
  },
  {
   "cell_type": "code",
   "execution_count": 248,
   "id": "7cd76c77-50e2-4077-84e9-fc5f95ab6e6b",
   "metadata": {},
   "outputs": [
    {
     "data": {
      "image/png": "[encoded data removed]",
      "text/plain": [
       "<Figure size 432x288 with 2 Axes>"
      ]
     },
     "metadata": {
      "needs_background": "light"
     },
     "output_type": "display_data"
    }
   ],
   "source": [
    "fig, ax1 = plt.subplots()\n",
    "ax1.set_xlabel('years')\n",
    "ax1.set_ylabel('Balance Total', color=\"purple\")\n",
    "ax1.plot(XValues,YValues,color=\"purple\")\n",
    "ax1.tick_params(axis='y', labelcolor=\"purple\")\n",
    "\n",
    "ax2 = ax1.twinx()  \n",
    "\n",
    "ax2.set_ylabel('Balance Total regression', color=\"blue\")  \n",
    "ax2.plot(xValues,yValues,color=\"blue\")\n",
    "ax2.tick_params(axis='y', labelcolor=\"blue\")\n",
    "\n",
    "fig.tight_layout()  \n",
    "plt.title(\"Reality vs. Regression\",fontsize=24)\n",
    "plt.show()\n"
   ]
  },
  {
   "cell_type": "code",
   "execution_count": 249,
   "id": "dd453996-0ace-4593-a9cb-72ca2031e3c6",
   "metadata": {},
   "outputs": [],
   "source": [
    "ms_sum=rigras_data[[\"Balance_Total\"]]\n",
    "ms_sum[\"Balance_Total_rill\"]=predict_balance[[\"Balance_Total\"]]\n",
    "ms_sum[\"MSE\"]=(ms_sum[\"Balance_Total\"]-ms_sum[\"Balance_Total_rill\"])**2\n",
    "MSE=(ms_sum[\"MSE\"].sum())/n"
   ]
  },
  {
   "cell_type": "code",
   "execution_count": 250,
   "id": "c2d5c319-4258-434c-b167-c58eb5ca4696",
   "metadata": {},
   "outputs": [],
   "source": [
    "ms_sum[\"MAD\"]=abs(ms_sum[\"Balance_Total\"]-ms_sum[\"Balance_Total_rill\"])\n",
    "MAD=(ms_sum[\"MAD\"].sum())/n\n",
    "ms_sum=ms_sum.dropna()"
   ]
  },
  {
   "cell_type": "code",
   "execution_count": 252,
   "id": "ad3f033d-778e-4ba7-8991-770e2f67321b",
   "metadata": {},
   "outputs": [],
   "source": [
    "devi=ms_sum.copy()\n",
    "devi[\"MAD\"]=sorted(devi[\"MAD\"])\n",
    "devi[\"MSE\"]=sorted(devi[\"MSE\"])\n",
    "devi=devi.loc[:2019,[\"MAD\",\"MSE\"]]\n"
   ]
  },
  {
   "cell_type": "code",
   "execution_count": 253,
   "id": "1714fcfc-9279-4e4b-9e69-41ba86eeb8b4",
   "metadata": {},
   "outputs": [
    {
     "data": {
      "text/plain": [
       "Text(0.5, 1.0, 'MAD')"
      ]
     },
     "execution_count": 253,
     "metadata": {},
     "output_type": "execute_result"
    },
    {
     "data": {
      "image/png": "[encoded data removed]",
      "text/plain": [
       "<Figure size 720x504 with 2 Axes>"
      ]
     },
     "metadata": {
      "needs_background": "light"
     },
     "output_type": "display_data"
    }
   ],
   "source": [
    "fig, axes = plt.subplots(figsize=(10,7), ncols=2)\n",
    "sns.boxplot(y=\"MSE\", data=devi , ax = axes[0])\n",
    "plt.title(\"MSE\",fontsize=24)\n",
    "sns.boxplot(y=\"MAD\", data=devi,ax = axes[1])\n",
    "plt.title(\"MAD\",fontsize=24)"
   ]
  },
  {
   "cell_type": "code",
   "execution_count": null,
   "id": "fc70f9a1-162f-46bd-9273-d13686fd3b05",
   "metadata": {},
   "outputs": [],
   "source": []
  },
  {
   "cell_type": "code",
   "execution_count": null,
   "id": "7093050e-ef4c-4526-8ba2-56623022fc01",
   "metadata": {},
   "outputs": [],
   "source": []
  },
  {
   "cell_type": "code",
   "execution_count": null,
   "id": "93307dec-d9c5-47e4-af0b-7b0dd02c8ea0",
   "metadata": {},
   "outputs": [],
   "source": []
  },
  {
   "cell_type": "code",
   "execution_count": null,
   "id": "8fea79e4-b854-4fa8-bf37-c8584f6e05d7",
   "metadata": {},
   "outputs": [],
   "source": []
  }
 ],
 "metadata": {
  "kernelspec": {
   "display_name": "Python 3 (ipykernel)",
   "language": "python",
   "name": "python3"
  },
  "language_info": {
   "codemirror_mode": {
    "name": "ipython",
    "version": 3
   },
   "file_extension": ".py",
   "mimetype": "text/x-python",
   "name": "python",
   "nbconvert_exporter": "python",
   "pygments_lexer": "ipython3",
   "version": "3.8.10"
  }
 },
 "nbformat": 4,
 "nbformat_minor": 5
}
